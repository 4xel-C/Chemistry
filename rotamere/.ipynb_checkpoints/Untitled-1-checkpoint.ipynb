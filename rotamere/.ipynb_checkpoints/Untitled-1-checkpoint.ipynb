{
 "cells": [
  {
   "cell_type": "code",
   "execution_count": 19,
   "metadata": {},
   "outputs": [
    {
     "data": {
      "application/vnd.jupyter.widget-view+json": {
       "model_id": "de442479c13a46079b5f7f47747f58a2",
       "version_major": 2,
       "version_minor": 0
      },
      "text/plain": [
       "NGLWidget()"
      ]
     },
     "metadata": {},
     "output_type": "display_data"
    }
   ],
   "source": [
    "from rdkit import Chem\n",
    "from rdkit.Chem import AllChem\n",
    "import nglview as nv\n",
    "import numpy as np\n",
    "\n",
    "# Créer une molécule à partir d'une chaîne SMILES\n",
    "smiles = 'c1(Cl)cc(Cl)c(N(C)N2C(C)=NN(CCOc3ccc(OCC)cc3)C2=O)nc1'  \n",
    "mol = Chem.MolFromSmiles(smiles)\n",
    "\n",
    "# Ajouter des hydrogènes\n",
    "mol = Chem.AddHs(mol)\n",
    "\n",
    "# Générer plusieurs conformères\n",
    "num_conformers = 30\n",
    "conformers = []\n",
    "energies = []\n",
    "\n",
    "for i in range(num_conformers):\n",
    "    # Créer une copie de la molécule pour chaque conformère\n",
    "    conf_mol = Chem.Mol(mol)\n",
    "    AllChem.EmbedMolecule(conf_mol)\n",
    "    AllChem.UFFOptimizeMolecule(conf_mol)\n",
    "\n",
    "    # Calculer l'énergie\n",
    "    energy = AllChem.UFFGetMoleculeForceField(conf_mol).CalcEnergy()\n",
    "    conformers.append(conf_mol)\n",
    "    energies.append(energy)\n",
    "\n",
    "# Trouver le meilleur conformère\n",
    "min_energy_index = np.argmin(energies)\n",
    "best_conformer = conformers[min_energy_index]\n",
    "\n",
    "# Visualiser le meilleur conformère avec nglview\n",
    "view = nv.show_rdkit(best_conformer)\n",
    "view.add_representation('ball+stick')\n",
    "view"
   ]
  },
  {
   "cell_type": "code",
   "execution_count": null,
   "metadata": {},
   "outputs": [],
   "source": []
  }
 ],
 "metadata": {
  "kernelspec": {
   "display_name": "Python 3 (ipykernel)",
   "language": "python",
   "name": "python3"
  },
  "language_info": {
   "codemirror_mode": {
    "name": "ipython",
    "version": 3
   },
   "file_extension": ".py",
   "mimetype": "text/x-python",
   "name": "python",
   "nbconvert_exporter": "python",
   "pygments_lexer": "ipython3",
   "version": "3.12.3"
  }
 },
 "nbformat": 4,
 "nbformat_minor": 4
}
