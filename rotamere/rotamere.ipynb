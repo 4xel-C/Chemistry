{
 "cells": [
  {
   "cell_type": "code",
   "execution_count": null,
   "metadata": {},
   "outputs": [],
   "source": [
    "from rdkit import Chem\n",
    "from rdkit.Chem import AllChem, Descriptors, Crippen\n",
    "import nglview as nv\n",
    "import numpy as np\n",
    "\n",
    "# Créer une molécule à partir d'une chaîne SMILES\n",
    "smiles = 'CC(C)C(=O)O'  \n",
    "mol = Chem.MolFromSmiles(smiles)\n",
    "\n",
    "# Ajouter des hydrogènes\n",
    "mol = Chem.AddHs(mol)\n",
    "\n",
    "# Calculer le logP global\n",
    "logP = Descriptors.MolLogP(mol)\n",
    "print(f\"logP: {logP}\")\n",
    "\n",
    "# Décomposer la molécule en sous-structures\n",
    "frags = Chem.GetMolFrags(mol, asMols=True)\n",
    "\n",
    "# Analyser l'impact des fragments sur le logP en utilisant les contributions de Crippen\n",
    "fragment_logP = {}\n",
    "for fragment in frags:\n",
    "    frag_logP = Crippen.MolLogP(fragment)\n",
    "    fragment_logP[Chem.MolToSmiles(fragment)] = frag_logP\n",
    "\n",
    "# Afficher les logP des fragments\n",
    "for frag_smiles, frag_logP in fragment_logP.items():\n",
    "    print(f\"Fragment: {frag_smiles}, logP: {frag_logP}\")\n",
    "\n",
    "# Visualiser la molécule avec nglview\n",
    "view = nv.show_rdkit(mol)\n",
    "view.add_representation('ball+stick')\n",
    "view"
   ]
  }
 ],
 "metadata": {
  "kernelspec": {
   "display_name": "Python 3 (ipykernel)",
   "language": "python",
   "name": "python3"
  },
  "language_info": {
   "codemirror_mode": {
    "name": "ipython",
    "version": 3
   },
   "file_extension": ".py",
   "mimetype": "text/x-python",
   "name": "python",
   "nbconvert_exporter": "python",
   "pygments_lexer": "ipython3",
   "version": "3.10.14"
  }
 },
 "nbformat": 4,
 "nbformat_minor": 4
}
