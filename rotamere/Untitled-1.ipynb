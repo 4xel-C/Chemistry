{
 "cells": [
  {
   "cell_type": "code",
   "execution_count": 6,
   "metadata": {
    "scrolled": true
   },
   "outputs": [
    {
     "name": "stdout",
     "output_type": "stream",
     "text": [
      "logP: 3.989600000000002\n",
      "Fragment: [H]c1nc(Sc2c([H])c([H])c(C#N)c([H])c2Cl)nc(C([H])([H])[H])c1C(=O)N([H])C(C([H])([H])[H])(C([H])([H])[H])C([H])([H])[H], logP: 3.989600000000002\n"
     ]
    },
    {
     "data": {
      "application/vnd.jupyter.widget-view+json": {
       "model_id": "1a779b7747c1432f89110dd9cb2a3a93",
       "version_major": 2,
       "version_minor": 0
      },
      "text/plain": [
       "NGLWidget()"
      ]
     },
     "metadata": {},
     "output_type": "display_data"
    }
   ],
   "source": [
    "from rdkit import Chem\n",
    "from rdkit.Chem import AllChem, Descriptors\n",
    "import nglview as nv\n",
    "import numpy as np\n",
    "\n",
    "# Créer une molécule à partir d'une chaîne SMILES\n",
    "smiles = 'c(cnc1Sc2ccc(cc2Cl)C#N)(c(C)n1)C(=O)NC(C)(C)C'  \n",
    "mol = Chem.MolFromSmiles(smiles)\n",
    "\n",
    "# Ajouter des hydrogènes\n",
    "mol = Chem.AddHs(mol)\n",
    "\n",
    "# Générer plusieurs conformères\n",
    "num_conformers = 30\n",
    "conformers = []\n",
    "energies = []\n",
    "\n",
    "for i in range(num_conformers):\n",
    "    # Créer une copie de la molécule pour chaque conformère\n",
    "    conf_mol = Chem.Mol(mol)\n",
    "    AllChem.EmbedMolecule(conf_mol)\n",
    "    AllChem.UFFOptimizeMolecule(conf_mol)\n",
    "\n",
    "    # Calculer l'énergie\n",
    "    energy = AllChem.UFFGetMoleculeForceField(conf_mol).CalcEnergy()\n",
    "    conformers.append(conf_mol)\n",
    "    energies.append(energy)\n",
    "\n",
    "# Trouver le meilleur conformère\n",
    "min_energy_index = np.argmin(energies)\n",
    "best_conformer = conformers[min_energy_index]\n",
    "\n",
    "logP = Descriptors.MolLogP(best_conformer)\n",
    "print(f\"logP: {logP}\")\n",
    "\n",
    "# Décomposer la molécule en sous-structures\n",
    "fragments = Chem.GetMolFrags(best_conformer, asMols=True)\n",
    "\n",
    "# Analyser l'impact des fragments sur le logP\n",
    "fragment_logP = {}\n",
    "for fragment in fragments:\n",
    "    frag_logP = Descriptors.MolLogP(fragment)\n",
    "    fragment_logP[Chem.MolToSmiles(fragment)] = frag_logP\n",
    "\n",
    "# Afficher les logP des fragments\n",
    "for frag_smiles, frag_logP in fragment_logP.items():\n",
    "    print(f\"Fragment: {frag_smiles}, logP: {frag_logP}\")\n",
    "\n",
    "# Visualiser la molécule avec nglview\n",
    "view = nv.show_rdkit(mol)\n",
    "view.add_representation('ball+stick')\n",
    "view\n",
    "\n"
   ]
  },
  {
   "cell_type": "code",
   "execution_count": 7,
   "metadata": {},
   "outputs": [
    {
     "name": "stdout",
     "output_type": "stream",
     "text": [
      "logP: 3.989600000000002\n",
      "Fragment: [H]c1nc(Sc2c([H])c([H])c(C#N)c([H])c2Cl)nc(C([H])([H])[H])c1C(=O)N([H])C(C([H])([H])[H])(C([H])([H])[H])C([H])([H])[H], logP: 3.989600000000002\n"
     ]
    },
    {
     "data": {
      "application/vnd.jupyter.widget-view+json": {
       "model_id": "bbcde45bbb914ce8865bc7a76687e7e7",
       "version_major": 2,
       "version_minor": 0
      },
      "text/plain": [
       "NGLWidget()"
      ]
     },
     "metadata": {},
     "output_type": "display_data"
    }
   ],
   "source": [
    "from rdkit import Chem\n",
    "from rdkit.Chem import AllChem, Descriptors, Crippen\n",
    "import nglview as nv\n",
    "import numpy as np\n",
    "\n",
    "# Créer une molécule à partir d'une chaîne SMILES\n",
    "smiles = 'c(cnc1Sc2ccc(cc2Cl)C#N)(c(C)n1)C(=O)NC(C)(C)C'  \n",
    "mol = Chem.MolFromSmiles(smiles)\n",
    "\n",
    "# Ajouter des hydrogènes\n",
    "mol = Chem.AddHs(mol)\n",
    "\n",
    "# Calculer le logP global\n",
    "logP = Descriptors.MolLogP(mol)\n",
    "print(f\"logP: {logP}\")\n",
    "\n",
    "# Décomposer la molécule en sous-structures\n",
    "frags = Chem.GetMolFrags(mol, asMols=True)\n",
    "\n",
    "# Analyser l'impact des fragments sur le logP en utilisant les contributions de Crippen\n",
    "fragment_logP = {}\n",
    "for fragment in frags:\n",
    "    frag_logP = Crippen.MolLogP(fragment)\n",
    "    fragment_logP[Chem.MolToSmiles(fragment)] = frag_logP\n",
    "\n",
    "# Afficher les logP des fragments\n",
    "for frag_smiles, frag_logP in fragment_logP.items():\n",
    "    print(f\"Fragment: {frag_smiles}, logP: {frag_logP}\")\n",
    "\n",
    "# Visualiser la molécule avec nglview\n",
    "view = nv.show_rdkit(mol)\n",
    "view.add_representation('ball+stick')\n",
    "view"
   ]
  }
 ],
 "metadata": {
  "kernelspec": {
   "display_name": "Python 3 (ipykernel)",
   "language": "python",
   "name": "python3"
  },
  "language_info": {
   "codemirror_mode": {
    "name": "ipython",
    "version": 3
   },
   "file_extension": ".py",
   "mimetype": "text/x-python",
   "name": "python",
   "nbconvert_exporter": "python",
   "pygments_lexer": "ipython3",
   "version": "3.10.14"
  }
 },
 "nbformat": 4,
 "nbformat_minor": 4
}
